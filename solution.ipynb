{
 "cells": [
  {
   "cell_type": "code",
   "execution_count": 1,
   "metadata": {},
   "outputs": [],
   "source": [
    "import pandas as pd\n",
    "import numpy as np\n",
    "from utils import *\n",
    "import math\n",
    "import functools\n",
    "import copy"
   ]
  },
  {
   "cell_type": "code",
   "execution_count": 2,
   "metadata": {},
   "outputs": [],
   "source": [
    "data = fileRead(\"input.txt\")"
   ]
  },
  {
   "cell_type": "markdown",
   "metadata": {},
   "source": [
    "## Part 1"
   ]
  },
  {
   "cell_type": "code",
   "execution_count": 3,
   "metadata": {},
   "outputs": [],
   "source": [
    "grid = [ [int(j) if j != \".\" else j for j in list(i.strip())] for i in data ]"
   ]
  },
  {
   "cell_type": "code",
   "execution_count": 4,
   "metadata": {},
   "outputs": [
    {
     "data": {
      "text/plain": [
       "233"
      ]
     },
     "execution_count": 4,
     "metadata": {},
     "output_type": "execute_result"
    }
   ],
   "source": [
    "trailheads = []\n",
    "for i in range(len(grid)):\n",
    "    for j in range(len(grid[0])):\n",
    "        if grid[i][j]==0:\n",
    "            trailheads.append((i,j))\n",
    "len(trailheads)"
   ]
  },
  {
   "cell_type": "code",
   "execution_count": 5,
   "metadata": {},
   "outputs": [],
   "source": [
    "dirs = [(1,0),(-1,0),(0,1),(0,-1)]\n",
    "ends = []\n",
    "\n",
    "def findTrail(grid, pos):\n",
    "    val = grid[pos[0]][pos[1]]\n",
    "    \n",
    "    if val == 9:\n",
    "        if pos not in ends:\n",
    "            ends.append(pos)\n",
    "            return 1\n",
    "        else:\n",
    "            return 0\n",
    "    \n",
    "    sum = 0\n",
    "    for dir in dirs:\n",
    "        newPos = posAdd(pos, dir)\n",
    "        if inGrid(newPos, grid) and grid[newPos[0]][newPos[1]] == val+1:\n",
    "            sum = sum + findTrail(grid, newPos)\n",
    "\n",
    "    return sum"
   ]
  },
  {
   "cell_type": "code",
   "execution_count": 6,
   "metadata": {},
   "outputs": [
    {
     "data": {
      "text/plain": [
       "550"
      ]
     },
     "execution_count": 6,
     "metadata": {},
     "output_type": "execute_result"
    }
   ],
   "source": [
    "sum = 0\n",
    "for head in trailheads:\n",
    "    ends = []\n",
    "    sum = sum + findTrail(grid, head)\n",
    "sum"
   ]
  },
  {
   "cell_type": "markdown",
   "metadata": {},
   "source": [
    "## Part 2"
   ]
  },
  {
   "cell_type": "code",
   "execution_count": 7,
   "metadata": {},
   "outputs": [],
   "source": [
    "dirs = [(1,0),(-1,0),(0,1),(0,-1)]\n",
    "\n",
    "def findTrail2(grid, pos):\n",
    "    val = grid[pos[0]][pos[1]]\n",
    "    \n",
    "    if val == 9:\n",
    "        return 1\n",
    "    \n",
    "    sum = 0\n",
    "    for dir in dirs:\n",
    "        newPos = posAdd(pos, dir)\n",
    "        if inGrid(newPos, grid) and grid[newPos[0]][newPos[1]] == val+1:\n",
    "            sum = sum + findTrail2(grid, newPos)\n",
    "\n",
    "    return sum"
   ]
  },
  {
   "cell_type": "code",
   "execution_count": 8,
   "metadata": {},
   "outputs": [
    {
     "data": {
      "text/plain": [
       "1255"
      ]
     },
     "execution_count": 8,
     "metadata": {},
     "output_type": "execute_result"
    }
   ],
   "source": [
    "sum = 0\n",
    "for head in trailheads:\n",
    "    sum = sum + findTrail2(grid, head)\n",
    "sum"
   ]
  }
 ],
 "metadata": {
  "kernelspec": {
   "display_name": "base",
   "language": "python",
   "name": "python3"
  },
  "language_info": {
   "codemirror_mode": {
    "name": "ipython",
    "version": 3
   },
   "file_extension": ".py",
   "mimetype": "text/x-python",
   "name": "python",
   "nbconvert_exporter": "python",
   "pygments_lexer": "ipython3",
   "version": "3.11.7"
  }
 },
 "nbformat": 4,
 "nbformat_minor": 2
}
